{
 "cells": [
  {
   "cell_type": "code",
   "execution_count": 1,
   "metadata": {},
   "outputs": [],
   "source": [
    "# initial = '#..#.#..##......###...###'\n",
    "initial = '##..#..##....#..#..#..##.#.###.######..#..###.#.#..##.###.#.##..###..#.#..#.##.##..###.#.#...#.##..'"
   ]
  },
  {
   "cell_type": "code",
   "execution_count": 2,
   "metadata": {},
   "outputs": [],
   "source": [
    "# instructions = [\n",
    "#     '...## => #',\n",
    "#     '..#.. => #',\n",
    "#     '.#... => #',\n",
    "#     '.#.#. => #',\n",
    "#     '.#.## => #',\n",
    "#     '.##.. => #',\n",
    "#     '.#### => #',\n",
    "#     '#.#.# => #',\n",
    "#     '#.### => #',\n",
    "#     '##.#. => #',\n",
    "#     '##.## => #',\n",
    "#     '###.. => #',\n",
    "#     '###.# => #',\n",
    "#     '####. => #',\n",
    "# ]\n",
    "instructions = [\n",
    "    '##### => #',\n",
    "    '##.## => #',\n",
    "    '..##. => .',\n",
    "    '..#.# => .',\n",
    "    '..### => #',\n",
    "    '#..## => #',\n",
    "    '.#.#. => #',\n",
    "    '#.#.# => #',\n",
    "    '#.##. => .',\n",
    "    '####. => .',\n",
    "    '#..#. => #',\n",
    "    '..#.. => .',\n",
    "    '.#### => .',\n",
    "    '##.#. => #',\n",
    "    '#...# => .',\n",
    "    '.##.# => #',\n",
    "    '#.### => .',\n",
    "    '.#..# => #',\n",
    "    '.#... => #',\n",
    "    '.##.. => #',\n",
    "    '.###. => .',\n",
    "    '#.... => .',\n",
    "    '###.. => .',\n",
    "    '##..# => .',\n",
    "    '...## => #',\n",
    "    '##... => .',\n",
    "    '..... => .',\n",
    "    '....# => .',\n",
    "    '###.# => #',\n",
    "    '#.#.. => .',\n",
    "    '.#.## => #',\n",
    "    '...#. => .',\n",
    "]"
   ]
  },
  {
   "cell_type": "code",
   "execution_count": 3,
   "metadata": {},
   "outputs": [
    {
     "data": {
      "text/plain": [
       "'#'"
      ]
     },
     "execution_count": 3,
     "metadata": {},
     "output_type": "execute_result"
    }
   ],
   "source": [
    "ins_dict = {x.split(' => ')[0]: x.split(' => ')[1] for x in instructions}\n",
    "ins_dict.get('.#.#.', '.')"
   ]
  },
  {
   "cell_type": "code",
   "execution_count": 4,
   "metadata": {},
   "outputs": [
    {
     "data": {
      "text/plain": [
       "99"
      ]
     },
     "execution_count": 4,
     "metadata": {},
     "output_type": "execute_result"
    }
   ],
   "source": [
    "len(initial)"
   ]
  },
  {
   "cell_type": "code",
   "execution_count": 5,
   "metadata": {},
   "outputs": [],
   "source": [
    "def next_gen(line, ins_dict = ins_dict, i=1, f_int = 0):\n",
    "    start = '.'*5 + line + 5*'.'\n",
    "#     print('FIN, ',f_int)\n",
    "    f_int -= 5\n",
    "    nxtgen = []\n",
    "    for s in range(0,len(start)):\n",
    "        char = ins_dict.get(start[s:s+5], '.')\n",
    "        nxtgen.append(char)\n",
    "    nxtstring = ''.join(nxtgen)\n",
    "    begin = len(nxtstring) - len(nxtstring.lstrip('.'))\n",
    "    end = len(nxtstring) - len(nxtstring.rstrip('.'))\n",
    "    if begin > 5:\n",
    "        beg = begin-5\n",
    "    else:\n",
    "        beg = 0\n",
    "    f_int += beg\n",
    "#     print('LAT ', f_int)\n",
    "    if end > 5:\n",
    "        ee = end-5\n",
    "    else:\n",
    "        ee = None\n",
    "#     print(beg, ee)\n",
    "#     if i <50000000000:\n",
    "    if i < 7800:\n",
    "        i += 1\n",
    "        if i%100 == 0:\n",
    "            print('i ', i)\n",
    "#         print(i, nxtstring, f_int)\n",
    "#         print(nxtstring[beg:-ee])\n",
    "        _ = next_gen(nxtstring[beg:-ee], i=i, f_int=f_int)\n",
    "    else:\n",
    "        print(nxtstring, f_int)"
   ]
  },
  {
   "cell_type": "code",
   "execution_count": 6,
   "metadata": {},
   "outputs": [
    {
     "data": {
      "text/plain": [
       "'##..#..##....#..#..#..##.#.###.######..#..###.#.#..##.###.#.##..###..#.#..#.##.##..###.#.#...#.##..'"
      ]
     },
     "execution_count": 6,
     "metadata": {},
     "output_type": "execute_result"
    }
   ],
   "source": [
    "initial"
   ]
  },
  {
   "cell_type": "code",
   "execution_count": null,
   "metadata": {},
   "outputs": [],
   "source": [
    "a = next_gen(initial)"
   ]
  },
  {
   "cell_type": "code",
   "execution_count": null,
   "metadata": {},
   "outputs": [],
   "source": [
    "nextgen = '...............................#.##.#.#.##.##.##.##.##.##.##.#..#.##.##.#.##...##.##.##.##.##.##.#..#.#..#.##.##.#.##.##.##.##.##.#...#.#....'\n",
    "nextgen = '.........#.##.#.#.##.##.##.##.##.##.##.#..#.##.##.#.##...##.##.##.##.##.##.#..#.#..#.##.##.#.##.##.##.##.##.#...#.#...........'"
   ]
  },
  {
   "cell_type": "code",
   "execution_count": null,
   "metadata": {},
   "outputs": [],
   "source": [
    "xzx = [pos+1 for pos, char in enumerate(nextgen) if char == '#']"
   ]
  },
  {
   "cell_type": "code",
   "execution_count": null,
   "metadata": {},
   "outputs": [],
   "source": [
    "sum(xzx)"
   ]
  },
  {
   "cell_type": "code",
   "execution_count": null,
   "metadata": {},
   "outputs": [],
   "source": [
    "ax1 = 'abcdefgh'"
   ]
  },
  {
   "cell_type": "code",
   "execution_count": null,
   "metadata": {},
   "outputs": [],
   "source": [
    "ax1[0:None]"
   ]
  },
  {
   "cell_type": "code",
   "execution_count": null,
   "metadata": {},
   "outputs": [],
   "source": [
    "print(i)"
   ]
  },
  {
   "cell_type": "code",
   "execution_count": null,
   "metadata": {},
   "outputs": [],
   "source": [
    "100000 % 100"
   ]
  },
  {
   "cell_type": "code",
   "execution_count": null,
   "metadata": {},
   "outputs": [],
   "source": []
  }
 ],
 "metadata": {
  "kernelspec": {
   "display_name": "Python 3",
   "language": "python",
   "name": "python3"
  },
  "language_info": {
   "codemirror_mode": {
    "name": "ipython",
    "version": 3
   },
   "file_extension": ".py",
   "mimetype": "text/x-python",
   "name": "python",
   "nbconvert_exporter": "python",
   "pygments_lexer": "ipython3",
   "version": "3.6.5"
  }
 },
 "nbformat": 4,
 "nbformat_minor": 2
}
