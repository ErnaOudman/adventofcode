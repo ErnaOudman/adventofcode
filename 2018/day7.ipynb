{
 "cells": [
  {
   "cell_type": "code",
   "execution_count": 1,
   "metadata": {},
   "outputs": [],
   "source": [
    "data = [\n",
    "    'Step C must be finished before step A can begin.',\n",
    "    'Step C must be finished before step F can begin.',\n",
    "    'Step A must be finished before step B can begin.',\n",
    "    'Step A must be finished before step D can begin.',\n",
    "    'Step B must be finished before step E can begin.',\n",
    "    'Step D must be finished before step E can begin.',\n",
    "    'Step F must be finished before step E can begin.'\n",
    "]"
   ]
  },
  {
   "cell_type": "code",
   "execution_count": 175,
   "metadata": {},
   "outputs": [
    {
     "data": {
      "text/plain": [
       "['Step L must be finished before step M can begin.',\n",
       " 'Step B must be finished before step S can begin.',\n",
       " 'Step F must be finished before step M can begin.',\n",
       " 'Step C must be finished before step P can begin.',\n",
       " 'Step D must be finished before step V can begin.']"
      ]
     },
     "execution_count": 175,
     "metadata": {},
     "output_type": "execute_result"
    }
   ],
   "source": [
    "file = 'input7.txt'\n",
    "with open(file) as f:\n",
    "    data = f.readlines()\n",
    "data = [x.replace('\\n','') for x in data]\n",
    "data[0:5]"
   ]
  },
  {
   "cell_type": "code",
   "execution_count": 2,
   "metadata": {},
   "outputs": [
    {
     "data": {
      "text/plain": [
       "7"
      ]
     },
     "execution_count": 2,
     "metadata": {},
     "output_type": "execute_result"
    }
   ],
   "source": [
    "readable = [(x.split(' ')[1], x.split(' ')[7]) for x in data]\n",
    "len(readable)"
   ]
  },
  {
   "cell_type": "code",
   "execution_count": 177,
   "metadata": {},
   "outputs": [],
   "source": [
    "firsts = [x[0] for x in readable]\n",
    "lasts = [x[1] for x in readable]"
   ]
  },
  {
   "cell_type": "code",
   "execution_count": 160,
   "metadata": {},
   "outputs": [
    {
     "data": {
      "text/plain": [
       "['B', 'F', 'L', 'T']"
      ]
     },
     "execution_count": 160,
     "metadata": {},
     "output_type": "execute_result"
    }
   ],
   "source": [
    "_first = list(set(firsts) - set(lasts))\n",
    "_first.sort()\n",
    "first = _first[0]\n",
    "_first\n",
    "# first"
   ]
  },
  {
   "cell_type": "code",
   "execution_count": 161,
   "metadata": {},
   "outputs": [
    {
     "data": {
      "text/plain": [
       "['N']"
      ]
     },
     "execution_count": 161,
     "metadata": {},
     "output_type": "execute_result"
    }
   ],
   "source": [
    "last = list(set(lasts) - set(firsts))\n",
    "last"
   ]
  },
  {
   "cell_type": "code",
   "execution_count": 162,
   "metadata": {},
   "outputs": [
    {
     "data": {
      "text/plain": [
       "26"
      ]
     },
     "execution_count": 162,
     "metadata": {},
     "output_type": "execute_result"
    }
   ],
   "source": [
    "alll = list(set(firsts+lasts))\n",
    "alll.sort()\n",
    "len(alll)"
   ]
  },
  {
   "cell_type": "code",
   "execution_count": 188,
   "metadata": {},
   "outputs": [
    {
     "name": "stdout",
     "output_type": "stream",
     "text": [
      "result:  ['B']\n",
      "result:  ['B', 'C']\n",
      "result:  ['B', 'C', 'E']\n",
      "result:  ['B', 'C', 'E', 'F']\n",
      "result:  ['B', 'C', 'E', 'F', 'L']\n",
      "result:  ['B', 'C', 'E', 'F', 'L', 'D']\n",
      "result:  ['B', 'C', 'E', 'F', 'L', 'D', 'M']\n",
      "result:  ['B', 'C', 'E', 'F', 'L', 'D', 'M', 'Q']\n",
      "result:  ['B', 'C', 'E', 'F', 'L', 'D', 'M', 'Q', 'T']\n",
      "result:  ['B', 'C', 'E', 'F', 'L', 'D', 'M', 'Q', 'T', 'X']\n",
      "result:  ['B', 'C', 'E', 'F', 'L', 'D', 'M', 'Q', 'T', 'X', 'H']\n",
      "result:  ['B', 'C', 'E', 'F', 'L', 'D', 'M', 'Q', 'T', 'X', 'H', 'Z']\n",
      "result:  ['B', 'C', 'E', 'F', 'L', 'D', 'M', 'Q', 'T', 'X', 'H', 'Z', 'G']\n",
      "result:  ['B', 'C', 'E', 'F', 'L', 'D', 'M', 'Q', 'T', 'X', 'H', 'Z', 'G', 'K']\n",
      "result:  ['B', 'C', 'E', 'F', 'L', 'D', 'M', 'Q', 'T', 'X', 'H', 'Z', 'G', 'K', 'I']\n",
      "result:  ['B', 'C', 'E', 'F', 'L', 'D', 'M', 'Q', 'T', 'X', 'H', 'Z', 'G', 'K', 'I', 'A']\n",
      "result:  ['B', 'C', 'E', 'F', 'L', 'D', 'M', 'Q', 'T', 'X', 'H', 'Z', 'G', 'K', 'I', 'A', 'S']\n",
      "result:  ['B', 'C', 'E', 'F', 'L', 'D', 'M', 'Q', 'T', 'X', 'H', 'Z', 'G', 'K', 'I', 'A', 'S', 'V']\n",
      "result:  ['B', 'C', 'E', 'F', 'L', 'D', 'M', 'Q', 'T', 'X', 'H', 'Z', 'G', 'K', 'I', 'A', 'S', 'V', 'J']\n",
      "result:  ['B', 'C', 'E', 'F', 'L', 'D', 'M', 'Q', 'T', 'X', 'H', 'Z', 'G', 'K', 'I', 'A', 'S', 'V', 'J', 'Y']\n",
      "result:  ['B', 'C', 'E', 'F', 'L', 'D', 'M', 'Q', 'T', 'X', 'H', 'Z', 'G', 'K', 'I', 'A', 'S', 'V', 'J', 'Y', 'O']\n",
      "result:  ['B', 'C', 'E', 'F', 'L', 'D', 'M', 'Q', 'T', 'X', 'H', 'Z', 'G', 'K', 'I', 'A', 'S', 'V', 'J', 'Y', 'O', 'R']\n",
      "result:  ['B', 'C', 'E', 'F', 'L', 'D', 'M', 'Q', 'T', 'X', 'H', 'Z', 'G', 'K', 'I', 'A', 'S', 'V', 'J', 'Y', 'O', 'R', 'P']\n",
      "result:  ['B', 'C', 'E', 'F', 'L', 'D', 'M', 'Q', 'T', 'X', 'H', 'Z', 'G', 'K', 'I', 'A', 'S', 'V', 'J', 'Y', 'O', 'R', 'P', 'U']\n",
      "result:  ['B', 'C', 'E', 'F', 'L', 'D', 'M', 'Q', 'T', 'X', 'H', 'Z', 'G', 'K', 'I', 'A', 'S', 'V', 'J', 'Y', 'O', 'R', 'P', 'U', 'W']\n",
      "result:  ['B', 'C', 'E', 'F', 'L', 'D', 'M', 'Q', 'T', 'X', 'H', 'Z', 'G', 'K', 'I', 'A', 'S', 'V', 'J', 'Y', 'O', 'R', 'P', 'U', 'W', 'N']\n"
     ]
    }
   ],
   "source": [
    "remaining = readable\n",
    "answer = []\n",
    "for i in range(0,len(alll)):\n",
    "    zou_kunnen = firsts + [x[1] for x in remaining if x[0] in answer]\n",
    "    magniet = [x[1] for x in remaining if x[0] not in answer] + answer\n",
    "    mag = list(set(zou_kunnen) - set(magniet))\n",
    "    mag.sort()\n",
    "    answer.append(mag[0])\n",
    "    print('result: ', answer)"
   ]
  },
  {
   "cell_type": "code",
   "execution_count": 186,
   "metadata": {},
   "outputs": [
    {
     "data": {
      "text/plain": [
       "26"
      ]
     },
     "execution_count": 186,
     "metadata": {},
     "output_type": "execute_result"
    }
   ],
   "source": [
    "len(answer)"
   ]
  },
  {
   "cell_type": "code",
   "execution_count": 187,
   "metadata": {},
   "outputs": [
    {
     "data": {
      "text/plain": [
       "'BCEFLDMQTXHZGKIASVJYORPUWN'"
      ]
     },
     "execution_count": 187,
     "metadata": {},
     "output_type": "execute_result"
    }
   ],
   "source": [
    "''.join(answer)"
   ]
  }
 ],
 "metadata": {
  "kernelspec": {
   "display_name": "Python 3",
   "language": "python",
   "name": "python3"
  },
  "language_info": {
   "codemirror_mode": {
    "name": "ipython",
    "version": 3
   },
   "file_extension": ".py",
   "mimetype": "text/x-python",
   "name": "python",
   "nbconvert_exporter": "python",
   "pygments_lexer": "ipython3",
   "version": "3.6.5"
  }
 },
 "nbformat": 4,
 "nbformat_minor": 2
}
