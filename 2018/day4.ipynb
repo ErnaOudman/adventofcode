{
 "cells": [
  {
   "cell_type": "code",
   "execution_count": 1,
   "metadata": {},
   "outputs": [],
   "source": [
    "file = 'input4.txt'\n",
    "with open(file) as f:\n",
    "    data = f.readlines()\n",
    "data = [x.replace('\\n','') for x in data]"
   ]
  },
  {
   "cell_type": "code",
   "execution_count": 9,
   "metadata": {},
   "outputs": [],
   "source": [
    "from datetime import datetime"
   ]
  },
  {
   "cell_type": "code",
   "execution_count": 16,
   "metadata": {},
   "outputs": [],
   "source": [
    "time_dict = {}\n",
    "for line in data:\n",
    "# line = data[0]\n",
    "    dt = line[1:17]\n",
    "    msg = line[19:]\n",
    "    time_dict[datetime.strptime(dt, '%Y-%m-%d %H:%M')] = msg"
   ]
  },
  {
   "cell_type": "code",
   "execution_count": 36,
   "metadata": {},
   "outputs": [],
   "source": [
    "order = sorted(time_dict.items())\n",
    "# order = order[:20]\n",
    "# order"
   ]
  },
  {
   "cell_type": "code",
   "execution_count": 55,
   "metadata": {},
   "outputs": [],
   "source": [
    "guard_dict = {}\n",
    "guard = None\n",
    "awake = True\n",
    "for line in order:\n",
    "    if line[1].startswith('Guard'):\n",
    "        guard = int(line[1].split(' ')[1][1:])\n",
    "        if not guard in guard_dict.keys():\n",
    "            guard_dict[guard] = {el:0 for el in range(0,60)}\n",
    "        new_guard = True\n",
    "    else:\n",
    "        gd = guard_dict[guard]\n",
    "        if new_guard:\n",
    "            minute = 0\n",
    "            new_guard=False\n",
    "        if 'asleep' in line[1]:\n",
    "            minute = line[0].minute\n",
    "        elif 'wakes' in line[1]:\n",
    "            new_minute = line[0].minute\n",
    "            for mm in range(minute, new_minute):\n",
    "                gd[mm] += 1\n",
    "            minute=new_minute   "
   ]
  },
  {
   "cell_type": "code",
   "execution_count": 56,
   "metadata": {},
   "outputs": [
    {
     "data": {
      "text/plain": [
       "53"
      ]
     },
     "execution_count": 56,
     "metadata": {},
     "output_type": "execute_result"
    }
   ],
   "source": [
    "line[0].minute"
   ]
  },
  {
   "cell_type": "code",
   "execution_count": 57,
   "metadata": {},
   "outputs": [],
   "source": [
    "total_minutes = {}\n",
    "for gd in guard_dict.items():\n",
    "    total_minutes[gd[0]] = sum(gd[1].values())"
   ]
  },
  {
   "cell_type": "code",
   "execution_count": 58,
   "metadata": {},
   "outputs": [
    {
     "data": {
      "text/plain": [
       "{661: 498,\n",
       " 1663: 512,\n",
       " 419: 439,\n",
       " 859: 408,\n",
       " 2383: 216,\n",
       " 997: 466,\n",
       " 1367: 348,\n",
       " 61: 148,\n",
       " 3407: 385,\n",
       " 3391: 419,\n",
       " 739: 450,\n",
       " 2221: 253,\n",
       " 2297: 391,\n",
       " 2113: 198,\n",
       " 1163: 323,\n",
       " 3203: 337,\n",
       " 733: 570,\n",
       " 113: 151,\n",
       " 907: 0,\n",
       " 2609: 222,\n",
       " 941: 0,\n",
       " 2713: 194,\n",
       " 349: 0}"
      ]
     },
     "execution_count": 58,
     "metadata": {},
     "output_type": "execute_result"
    }
   ],
   "source": [
    "total_minutes"
   ]
  },
  {
   "cell_type": "code",
   "execution_count": 59,
   "metadata": {},
   "outputs": [
    {
     "data": {
      "text/plain": [
       "(733, 570)"
      ]
     },
     "execution_count": 59,
     "metadata": {},
     "output_type": "execute_result"
    }
   ],
   "source": [
    "max(total_minutes.items(), key=operator.itemgetter(1))"
   ]
  },
  {
   "cell_type": "code",
   "execution_count": 61,
   "metadata": {},
   "outputs": [],
   "source": [
    "guard = guard_dict[733]"
   ]
  },
  {
   "cell_type": "code",
   "execution_count": 62,
   "metadata": {},
   "outputs": [
    {
     "data": {
      "text/plain": [
       "(48, 17)"
      ]
     },
     "execution_count": 62,
     "metadata": {},
     "output_type": "execute_result"
    }
   ],
   "source": [
    "max(guard.items(), key=operator.itemgetter(1))"
   ]
  },
  {
   "cell_type": "code",
   "execution_count": 65,
   "metadata": {},
   "outputs": [
    {
     "data": {
      "text/plain": [
       "35184"
      ]
     },
     "execution_count": 65,
     "metadata": {},
     "output_type": "execute_result"
    }
   ],
   "source": [
    "733*48"
   ]
  },
  {
   "cell_type": "code",
   "execution_count": 67,
   "metadata": {},
   "outputs": [],
   "source": [
    "gd_max = {}\n",
    "for gd in guard_dict.items():\n",
    "    gd_max[gd[0]] = max(gd[1].items(), key=operator.itemgetter(1))"
   ]
  },
  {
   "cell_type": "code",
   "execution_count": 68,
   "metadata": {},
   "outputs": [
    {
     "data": {
      "text/plain": [
       "{661: (33, 14),\n",
       " 1663: (31, 14),\n",
       " 419: (34, 13),\n",
       " 859: (43, 12),\n",
       " 2383: (29, 7),\n",
       " 997: (38, 19),\n",
       " 1367: (43, 12),\n",
       " 61: (36, 7),\n",
       " 3407: (37, 12),\n",
       " 3391: (37, 13),\n",
       " 739: (48, 16),\n",
       " 2221: (32, 8),\n",
       " 2297: (37, 13),\n",
       " 2113: (34, 5),\n",
       " 1163: (33, 9),\n",
       " 3203: (31, 10),\n",
       " 733: (48, 17),\n",
       " 113: (28, 5),\n",
       " 907: (0, 0),\n",
       " 2609: (24, 8),\n",
       " 941: (0, 0),\n",
       " 2713: (43, 7),\n",
       " 349: (0, 0)}"
      ]
     },
     "execution_count": 68,
     "metadata": {},
     "output_type": "execute_result"
    }
   ],
   "source": [
    "gd_max"
   ]
  },
  {
   "cell_type": "code",
   "execution_count": 69,
   "metadata": {},
   "outputs": [
    {
     "data": {
      "text/plain": [
       "37886"
      ]
     },
     "execution_count": 69,
     "metadata": {},
     "output_type": "execute_result"
    }
   ],
   "source": [
    "997 * 38"
   ]
  },
  {
   "cell_type": "code",
   "execution_count": null,
   "metadata": {},
   "outputs": [],
   "source": []
  }
 ],
 "metadata": {
  "kernelspec": {
   "display_name": "Python 3",
   "language": "python",
   "name": "python3"
  },
  "language_info": {
   "codemirror_mode": {
    "name": "ipython",
    "version": 3
   },
   "file_extension": ".py",
   "mimetype": "text/x-python",
   "name": "python",
   "nbconvert_exporter": "python",
   "pygments_lexer": "ipython3",
   "version": "3.6.5"
  }
 },
 "nbformat": 4,
 "nbformat_minor": 2
}
