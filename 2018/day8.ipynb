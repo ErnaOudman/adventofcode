{
 "cells": [
  {
   "cell_type": "code",
   "execution_count": 1,
   "metadata": {},
   "outputs": [],
   "source": [
    "data = '2 3 0 3 10 11 12 1 1 0 1 99 2 1 1 2'"
   ]
  },
  {
   "cell_type": "code",
   "execution_count": 22,
   "metadata": {},
   "outputs": [],
   "source": [
    "file = 'input8.txt'\n",
    "with open(file) as f:\n",
    "    data = f.readlines()"
   ]
  },
  {
   "cell_type": "code",
   "execution_count": 2,
   "metadata": {},
   "outputs": [],
   "source": [
    "dl = data.split(' ')\n"
   ]
  },
  {
   "cell_type": "code",
   "execution_count": 3,
   "metadata": {},
   "outputs": [],
   "source": [
    "dl1 = [int(x) for x in dl]\n",
    "import time\n",
    "# dl1"
   ]
  },
  {
   "cell_type": "code",
   "execution_count": 53,
   "metadata": {},
   "outputs": [],
   "source": [
    "# header = data[:2]\n",
    "# metadata = []\n",
    "def find_metadata(data, metadata=[], level = 0, levels = {}):\n",
    "#     time.sleep(0.1)\n",
    "    print(metadata)\n",
    "    print(level, data)\n",
    "    print(levels)\n",
    "    header = data[:2]\n",
    "    num_child = header[0]\n",
    "    num_meta = header[1]\n",
    "#     level -= 1\n",
    "    if level in levels.keys() and len(levels[level]) > 0:\n",
    "        levels[level] += [num_meta]\n",
    "    else:\n",
    "        levels[level] = [num_meta]\n",
    "    if len(levels[level]) == 1 and len(data) == sum(levels[level]):\n",
    "        metadata += data\n",
    "    elif num_child == 0:\n",
    "        _rem = levels[level]\n",
    "        _rem.pop()\n",
    "        levels[level].pop()\n",
    "        if len(levels[level]) == 0:\n",
    "            level -= 1\n",
    "        metadata += data[2:2+num_meta]\n",
    "        find_metadata(data[2+num_meta:], metadata=metadata, level=level, levels=levels)\n",
    "    else:\n",
    "        level +=1\n",
    "        find_metadata(data[2:], metadata=metadata, level=level, levels=levels)\n",
    "    return metadata"
   ]
  },
  {
   "cell_type": "code",
   "execution_count": 54,
   "metadata": {},
   "outputs": [
    {
     "name": "stdout",
     "output_type": "stream",
     "text": [
      "[]\n",
      "0 [2, 3, 0, 3, 10, 11, 12, 1, 1, 0, 1, 99, 2, 1, 1, 2]\n",
      "{}\n",
      "[]\n",
      "1 [0, 3, 10, 11, 12, 1, 1, 0, 1, 99, 2, 1, 1, 2]\n",
      "{0: [3]}\n",
      "[10, 11, 12]\n",
      "0 [1, 1, 0, 1, 99, 2, 1, 1, 2]\n",
      "{0: [3], 1: []}\n",
      "[10, 11, 12]\n",
      "1 [0, 1, 99, 2, 1, 1, 2]\n",
      "{0: [3, 1], 1: []}\n",
      "[10, 11, 12, 99]\n",
      "0 [2, 1, 1, 2]\n",
      "{0: [3, 1], 1: []}\n",
      "[10, 11, 12, 99]\n",
      "1 [1, 2]\n",
      "{0: [3, 1, 1], 1: []}\n"
     ]
    }
   ],
   "source": [
    "f = find_metadata(dl1)"
   ]
  },
  {
   "cell_type": "code",
   "execution_count": 55,
   "metadata": {},
   "outputs": [
    {
     "data": {
      "text/plain": [
       "([10, 11, 12, 99, 1, 2], 135)"
      ]
     },
     "execution_count": 55,
     "metadata": {},
     "output_type": "execute_result"
    }
   ],
   "source": [
    "f, sum(f)"
   ]
  },
  {
   "cell_type": "code",
   "execution_count": 5,
   "metadata": {},
   "outputs": [
    {
     "data": {
      "text/plain": [
       "18179"
      ]
     },
     "execution_count": 5,
     "metadata": {},
     "output_type": "execute_result"
    }
   ],
   "source": [
    "len(dl1)"
   ]
  },
  {
   "cell_type": "code",
   "execution_count": null,
   "metadata": {},
   "outputs": [],
   "source": []
  }
 ],
 "metadata": {
  "kernelspec": {
   "display_name": "Python 3",
   "language": "python",
   "name": "python3"
  },
  "language_info": {
   "codemirror_mode": {
    "name": "ipython",
    "version": 3
   },
   "file_extension": ".py",
   "mimetype": "text/x-python",
   "name": "python",
   "nbconvert_exporter": "python",
   "pygments_lexer": "ipython3",
   "version": "3.6.5"
  }
 },
 "nbformat": 4,
 "nbformat_minor": 2
}
