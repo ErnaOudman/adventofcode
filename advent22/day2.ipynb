{
 "cells": [
  {
   "cell_type": "code",
   "execution_count": 4,
   "metadata": {},
   "outputs": [],
   "source": [
    "infile = 'inputday2.txt'\n",
    "with open(infile) as f:\n",
    "    lines = f.readlines()\n",
    "    lines = [x.strip('\\n') for x in lines]"
   ]
  },
  {
   "cell_type": "code",
   "execution_count": 5,
   "metadata": {},
   "outputs": [
    {
     "data": {
      "text/plain": [
       "['B', 'X']"
      ]
     },
     "execution_count": 5,
     "metadata": {},
     "output_type": "execute_result"
    }
   ],
   "source": [
    "ll = 'B X'\n",
    "ll.split(' ')"
   ]
  },
  {
   "cell_type": "code",
   "execution_count": 6,
   "metadata": {},
   "outputs": [],
   "source": [
    "def score_line(line):\n",
    "    opponent = line.split(' ')[0]\n",
    "    me = line.split(' ')[1]\n",
    "\n",
    "    if opponent == 'A':\n",
    "        if me == 'X':\n",
    "            return 4\n",
    "        elif me == 'Y':\n",
    "            return 8\n",
    "        elif me == 'Z':\n",
    "            return 3\n",
    "    elif opponent == 'B':\n",
    "        if me == 'X':\n",
    "            return 1\n",
    "        elif me == 'Y':\n",
    "            return 5\n",
    "        elif me == 'Z':\n",
    "            return 9\n",
    "    elif opponent == 'C':\n",
    "        if me == 'X':\n",
    "            return 7\n",
    "        elif me == 'Y':\n",
    "            return 2\n",
    "        elif me == 'Z':\n",
    "            return 6"
   ]
  },
  {
   "cell_type": "code",
   "execution_count": 7,
   "metadata": {},
   "outputs": [],
   "source": [
    "in1 = ['A Y','B X', 'C Z']"
   ]
  },
  {
   "cell_type": "code",
   "execution_count": 8,
   "metadata": {},
   "outputs": [
    {
     "data": {
      "text/plain": [
       "15"
      ]
     },
     "execution_count": 8,
     "metadata": {},
     "output_type": "execute_result"
    }
   ],
   "source": [
    "res = []\n",
    "for l in in1:\n",
    "    res.append(score_line(l))\n",
    "sum(res)"
   ]
  },
  {
   "cell_type": "code",
   "execution_count": 9,
   "metadata": {},
   "outputs": [
    {
     "data": {
      "text/plain": [
       "15337"
      ]
     },
     "execution_count": 9,
     "metadata": {},
     "output_type": "execute_result"
    }
   ],
   "source": [
    "res = []\n",
    "for l in lines:\n",
    "    res.append(score_line(l))\n",
    "sum(res)"
   ]
  },
  {
   "cell_type": "code",
   "execution_count": 10,
   "metadata": {},
   "outputs": [],
   "source": [
    "def score_line_move(line):\n",
    "    opponent = line.split(' ')[0]\n",
    "    me = line.split(' ')[1]\n",
    "\n",
    "    if opponent == 'A':\n",
    "        if me == 'X':\n",
    "            return 3\n",
    "        elif me == 'Y':\n",
    "            return 4\n",
    "        elif me == 'Z':\n",
    "            return 8\n",
    "    elif opponent == 'B':\n",
    "        if me == 'X':\n",
    "            return 1\n",
    "        elif me == 'Y':\n",
    "            return 5\n",
    "        elif me == 'Z':\n",
    "            return 9\n",
    "    elif opponent == 'C':\n",
    "        if me == 'X':\n",
    "            return 2\n",
    "        elif me == 'Y':\n",
    "            return 6\n",
    "        elif me == 'Z':\n",
    "            return 7"
   ]
  },
  {
   "cell_type": "code",
   "execution_count": 11,
   "metadata": {},
   "outputs": [
    {
     "data": {
      "text/plain": [
       "12"
      ]
     },
     "execution_count": 11,
     "metadata": {},
     "output_type": "execute_result"
    }
   ],
   "source": [
    "res = []\n",
    "for l in in1:\n",
    "    res.append(score_line_move(l))\n",
    "sum(res)"
   ]
  },
  {
   "cell_type": "code",
   "execution_count": 12,
   "metadata": {},
   "outputs": [
    {
     "data": {
      "text/plain": [
       "11696"
      ]
     },
     "execution_count": 12,
     "metadata": {},
     "output_type": "execute_result"
    }
   ],
   "source": [
    "res = []\n",
    "for l in lines:\n",
    "    res.append(score_line_move(l))\n",
    "sum(res)"
   ]
  },
  {
   "cell_type": "code",
   "execution_count": null,
   "metadata": {},
   "outputs": [],
   "source": []
  }
 ],
 "metadata": {
  "kernelspec": {
   "display_name": "advent",
   "language": "python",
   "name": "python3"
  },
  "language_info": {
   "codemirror_mode": {
    "name": "ipython",
    "version": 3
   },
   "file_extension": ".py",
   "mimetype": "text/x-python",
   "name": "python",
   "nbconvert_exporter": "python",
   "pygments_lexer": "ipython3",
   "version": "3.11.0"
  },
  "orig_nbformat": 4,
  "vscode": {
   "interpreter": {
    "hash": "02ae2a809fe368896671a17a7cab9b002df1a97fcfc7e24f09ca123bcdb20ca5"
   }
  }
 },
 "nbformat": 4,
 "nbformat_minor": 2
}
